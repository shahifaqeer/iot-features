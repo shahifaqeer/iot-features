{
 "metadata": {
  "name": "",
  "signature": "sha256:3df8ef96bec885b8d389dd9a3009669ae1f6a034d8eaca315672ace5f47dfefe"
 },
 "nbformat": 3,
 "nbformat_minor": 0,
 "worksheets": [
  {
   "cells": [
    {
     "cell_type": "code",
     "collapsed": false,
     "input": [
      "from __future__ import division\n",
      "\n",
      "import pandas as pd\n",
      "import matplotlib.pylab as plt\n",
      "import numpy as np\n",
      "import os, json, glob, subprocess\n",
      "\n",
      "from src.dnsLogger import DnsLogger"
     ],
     "language": "python",
     "metadata": {},
     "outputs": [],
     "prompt_number": 19
    },
    {
     "cell_type": "code",
     "collapsed": false,
     "input": [
      "DATA = '/home/sgrover/Work/IoT-dumps/'\n",
      "PROCESSED = '/home/sgrover/Work/iot-features/processed/dns/'\n",
      "for folder in os.walk(DATA):\n",
      "    print folder[0]\n",
      "\n",
      "folders = {}\n",
      "folders['Amazon Echo'] = '/home/sgrover/Work/IoT-dumps/echo'\n",
      "folders['SmartThings'] = '/home/sgrover/Work/IoT-dumps/smartthings'\n",
      "folders['Nest Thermostat'] = '/home/sgrover/Work/IoT-dumps/nest'\n",
      "folders['Pixstar Photoframe'] = '/home/sgrover/Work/device_dumps/photoframe'\n",
      "folders['Ubi'] = '/home/sgrover/Work/device_dumps/ubi'\n",
      "folders['Sharx IPCam'] = '/home/sgrover/Work/IoT-dumps/ipcam'\n",
      "folders['Nest Cam'] = '/home/sgrover/Work/IoT-dumps/nest_cam'\n",
      "folders['Wemo'] = '/home/sgrover/Work/IoT-dumps/wemo'\n",
      "\n",
      "mac = {}\n",
      "mac['Amazon Echo'] = '74:75:48:9b:70:25'\n",
      "mac['SmartThings'] = 'd0:52:a8:00:81:b6'\n",
      "mac['Nest Thermostat'] = '18:b4:30:14:52:1d'\n",
      "mac['Pixstar Photoframe'] = 'b4:ab:2c:08:3c:f8'\n",
      "mac['Ubi'] = '6c:fa:a7:15:dd:ab'\n",
      "mac['Sharx IPCam'] = '00:e0:4c:b7:3c:d2'\n",
      "mac['Nest Cam'] = '18:b4:30:54:dd:0c'\n",
      "mac['Wemo'] = ''\n",
      "\n",
      "processed = {}\n",
      "for key in folders.keys():\n",
      "    processed[key] = PROCESSED + folders[key].split('/')[-1]\n",
      "    if not os.path.exists(processed[key]):\n",
      "        os.makedirs(processed[key])"
     ],
     "language": "python",
     "metadata": {},
     "outputs": [
      {
       "output_type": "stream",
       "stream": "stdout",
       "text": [
        "/home/sgrover/Work/IoT-dumps/\n",
        "/home/sgrover/Work/IoT-dumps/ipcam\n",
        "/home/sgrover/Work/IoT-dumps/echo\n",
        "/home/sgrover/Work/IoT-dumps/smartthings\n",
        "/home/sgrover/Work/IoT-dumps/wemo\n",
        "/home/sgrover/Work/IoT-dumps/nest\n",
        "/home/sgrover/Work/IoT-dumps/nest_cam\n",
        "/home/sgrover/Work/IoT-dumps/echo_with_ipcam\n"
       ]
      }
     ],
     "prompt_number": 13
    },
    {
     "cell_type": "markdown",
     "metadata": {},
     "source": [
      "# CREATE json IN DATA"
     ]
    },
    {
     "cell_type": "code",
     "collapsed": false,
     "input": [
      "for device in folders.keys():\n",
      "    for pcap in glob.glob(folders[device] + \"/*.pcap\"):\n",
      "        print pcap\n",
      "        dns = DnsLogger(pcap, mac[device])\n",
      "        dns.run()\n",
      "    print \"\\n\\nmove *.json to \"+processed[device]+\"\\n\\n\" \n",
      "    subprocess.check_output(\"mv *.json \"+processed[device], shell=True)"
     ],
     "language": "python",
     "metadata": {},
     "outputs": [
      {
       "output_type": "stream",
       "stream": "stdout",
       "text": [
        "/home/sgrover/Work/IoT-dumps/nest/1448223207.pcap\n",
        "Sniffing packets from:\n",
        "\t/home/sgrover/Work/IoT-dumps/nest/1448223207.pcap\n",
        "Writing to file: 1448223207.json"
       ]
      },
      {
       "output_type": "stream",
       "stream": "stdout",
       "text": [
        "\n",
        "/home/sgrover/Work/IoT-dumps/nest/1448224195.pcap\n",
        "Sniffing packets from:\n",
        "\t/home/sgrover/Work/IoT-dumps/nest/1448224195.pcap\n",
        "Writing to file: 1448224195.json"
       ]
      },
      {
       "output_type": "stream",
       "stream": "stdout",
       "text": [
        "\n",
        "/home/sgrover/Work/IoT-dumps/nest/1448223657.pcap\n",
        "Sniffing packets from:\n",
        "\t/home/sgrover/Work/IoT-dumps/nest/1448223657.pcap\n",
        "Writing to file: 1448223657.json"
       ]
      },
      {
       "output_type": "stream",
       "stream": "stdout",
       "text": [
        "\n",
        "/home/sgrover/Work/IoT-dumps/nest/1448061849.pcap\n",
        "Sniffing packets from:\n",
        "\t/home/sgrover/Work/IoT-dumps/nest/1448061849.pcap\n",
        "Writing to file: 1448061849.json"
       ]
      },
      {
       "output_type": "stream",
       "stream": "stdout",
       "text": [
        "\n",
        "\n",
        "\n",
        "move *.json to /home/sgrover/Work/iot-features/processed/dns/nest\n",
        "\n",
        "\n"
       ]
      }
     ],
     "prompt_number": 22
    },
    {
     "cell_type": "markdown",
     "metadata": {},
     "source": [
      "# READ, COMBINE, CLEAN jsons"
     ]
    },
    {
     "cell_type": "code",
     "collapsed": false,
     "input": [
      "glob.glob(foldername + '/*')"
     ],
     "language": "python",
     "metadata": {},
     "outputs": [
      {
       "metadata": {},
       "output_type": "pyout",
       "prompt_number": 25,
       "text": [
        "['/home/sgrover/Work/iot-features/processed/dns/ubi/1427073791.json',\n",
        " '/home/sgrover/Work/iot-features/processed/dns/ubi/1427074595.json',\n",
        " '/home/sgrover/Work/iot-features/processed/dns/ubi/1427074959.json',\n",
        " '/home/sgrover/Work/iot-features/processed/dns/ubi/1427074231.json']"
       ]
      }
     ],
     "prompt_number": 25
    },
    {
     "cell_type": "code",
     "collapsed": false,
     "input": [
      "uniqueDNS = {}\n",
      "for device, foldername in processed.iteritems():\n",
      "    print '\\n', device, foldername\n",
      "    output = set()\n",
      "    for filename in glob.glob(foldername + '/*'):\n",
      "        data = json.loads(open(filename, 'r').read())\n",
      "        for row in data:\n",
      "            #print row\n",
      "            output.add(row)\n",
      "\n",
      "    # convert back to a list\n",
      "    uniqueDNS[device] = list(output)"
     ],
     "language": "python",
     "metadata": {},
     "outputs": [
      {
       "output_type": "stream",
       "stream": "stdout",
       "text": [
        "\n",
        "Nest Thermostat /home/sgrover/Work/iot-features/processed/dns/nest\n",
        "\n",
        "SmartThings /home/sgrover/Work/iot-features/processed/dns/smartthings\n",
        "\n",
        "Pixstar Photoframe /home/sgrover/Work/iot-features/processed/dns/photoframe\n",
        "\n",
        "Nest Cam /home/sgrover/Work/iot-features/processed/dns/nest_cam\n",
        "\n",
        "Amazon Echo /home/sgrover/Work/iot-features/processed/dns/echo\n",
        "\n",
        "Wemo /home/sgrover/Work/iot-features/processed/dns/wemo\n",
        "\n",
        "Sharx IPCam /home/sgrover/Work/iot-features/processed/dns/ipcam\n",
        "\n",
        "Ubi /home/sgrover/Work/iot-features/processed/dns/ubi\n"
       ]
      }
     ],
     "prompt_number": 32
    },
    {
     "cell_type": "code",
     "collapsed": false,
     "input": [
      "with open('output/smartdevices_dns.json', 'w') as outfile:\n",
      "    json.dump(uniqueDNS, outfile)"
     ],
     "language": "python",
     "metadata": {},
     "outputs": [],
     "prompt_number": 34
    },
    {
     "cell_type": "code",
     "collapsed": false,
     "input": [
      "uniqueDNS"
     ],
     "language": "python",
     "metadata": {},
     "outputs": [
      {
       "metadata": {},
       "output_type": "pyout",
       "prompt_number": 36,
       "text": [
        "{'Amazon Echo': [u'amzdigitaldownloads.edgesuite.net.',\n",
        "  u'softwareupdates.amazon.com.',\n",
        "  u'todo-ta-g7g.amazon.com.',\n",
        "  u'ntp.amazon.com.',\n",
        "  u'pindorama.amazon.com.',\n",
        "  u'ntp.amazon.com.princeton.org.',\n",
        "  u'firs-ta-g7g.amazon.com.',\n",
        "  u'ntp-g7g.amazon.com.',\n",
        "  u'esdk-ffl.spotify.com.',\n",
        "  u'guipitan.amazon.com.',\n",
        "  u'0.north-america.pool.ntp.org.',\n",
        "  u'3.north-america.pool.ntp.org.',\n",
        "  u'2.north-america.pool.ntp.org.',\n",
        "  u'spectrum.s3.amazonaws.com.',\n",
        "  u'pins.amazon.com.',\n",
        "  u'd29r7idq0wxsiz.cloudfront.net.',\n",
        "  u'device-metrics-us.amazon.com.',\n",
        "  u'1.north-america.pool.ntp.org.'],\n",
        " 'Nest Cam': [u'nexus.dropcam.com.',\n",
        "  u'oculus166-vir.dropcam.com.',\n",
        "  u'files.dropcam.com.',\n",
        "  u'pool.ntp.org.'],\n",
        " 'Nest Thermostat': [u'transport01-rts04-iad01.transport.home.nest.com.',\n",
        "  u'frontdoor.nest.com.',\n",
        "  u'time.nest.com.',\n",
        "  u'weather.nest.com.',\n",
        "  u'log-rts04-iad01.devices.nest.com.'],\n",
        " 'Pixstar Photoframe': [u'api.pix-star.com.',\n",
        "  u'spheris.connectify.',\n",
        "  u'iptime.pix-star.com.'],\n",
        " 'Sharx IPCam': [u'smtp.gmail.com.',\n",
        "  u'www.sharxsecurity.com.',\n",
        "  u'time.nist.gov.',\n",
        "  u'ftp://homenetworklab.noise.gatech.edu:data/.'],\n",
        " 'SmartThings': [u'pool.ntp.org.', u'DC.connect.smartthings.com.'],\n",
        " 'Ubi': [u'clients3.google.com.',\n",
        "  u'api.grooveshark.com.',\n",
        "  u'dl.google.com.',\n",
        "  u'www.google.ca.',\n",
        "  u'stream160a-he.grooveshark.com.',\n",
        "  u'www.earthtools.org.',\n",
        "  u'play.googleapis.com.',\n",
        "  u'stream176a-he.grooveshark.com.',\n",
        "  u'ip-api.com.',\n",
        "  u'android.clients.google.com.',\n",
        "  u'mtalk.google.com.',\n",
        "  u'portal.theubi.com.',\n",
        "  u'2.android.pool.ntp.org.',\n",
        "  u'www.google.com.'],\n",
        " 'Wemo': []}"
       ]
      }
     ],
     "prompt_number": 36
    },
    {
     "cell_type": "code",
     "collapsed": false,
     "input": [],
     "language": "python",
     "metadata": {},
     "outputs": []
    }
   ],
   "metadata": {}
  }
 ]
}